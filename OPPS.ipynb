{
 "cells": [
  {
   "cell_type": "markdown",
   "id": "0fad1c27-53b0-4742-968e-f47852645ed3",
   "metadata": {},
   "source": [
    "Object-Oriented Programming"
   ]
  },
  {
   "cell_type": "markdown",
   "id": "091b6e10-0efa-43b8-8c75-17d862a951a2",
   "metadata": {},
   "source": [
    "OOPS Python is a programming paradigm that structures code around objects and classes. \n",
    "It allows developers to model real-world entities, making the code more modular, reusable, and easier to maintain."
   ]
  },
  {
   "cell_type": "markdown",
   "id": "cc999fd2-22d5-4cdf-a523-da4897f66b07",
   "metadata": {},
   "source": [
    "core concept of opps\n",
    "- Class: A class is a blueprint or template that defines the structure and behavior (methods) of objects. It encapsulates data (attributes) and functions (methods) that operate on that data.\n",
    "- Object: An object is an instance of a class. It represents an entity that holds data and can perform actions defined by the class."
   ]
  },
  {
   "cell_type": "markdown",
   "id": "6dc7a9a8-f719-4b05-9ad5-5abe71d4bf43",
   "metadata": {},
   "source": [
    "- The __init__ method in Python is called a constructor because it is automatically invoked when you create an instance of a class.\n",
    "Its main purpose is to initialize the instance attributes (also called instance variables). These attributes are specific to each object (instance) created from the class.\n",
    "- When the __init__ method is defined, it usually takes parameters (like self and others) and assigns values to the instance attributes using the self keyword, which refers to the current instance."
   ]
  },
  {
   "cell_type": "markdown",
   "id": "1be735c0-6bec-4ead-a487-ffe54cfca170",
   "metadata": {},
   "source": [
    "self - Self represents the instance of the class, It is uased to refer the attributed of the instasnce in the class and method.\n",
    "- When you create an instance method, self must be the first parameter\n",
    "- self helps distinguish instance attributes from local variables\n",
    "- You can access instance attributes using self.attribute_name\n",
    "- When calling methods, Python automatically passes the instance as self"
   ]
  },
  {
   "cell_type": "code",
   "execution_count": 1,
   "id": "51da57cb-6e50-4ff7-8c5d-62b1656ec5df",
   "metadata": {},
   "outputs": [
    {
     "name": "stdout",
     "output_type": "stream",
     "text": [
      "The Toyota Corolla's engine is started.\n"
     ]
    }
   ],
   "source": [
    "class Car:\n",
    "    # Constructor\n",
    "    def __init__(self, brand, model):\n",
    "        self.brand = brand  # Attribute\n",
    "        self.model = model  # Attribute\n",
    "\n",
    "    # Method\n",
    "    def start_engine(self):\n",
    "        print(f\"The {self.brand} {self.model}'s engine is started.\")\n",
    "\n",
    "# Create an object (instance of Car class)\n",
    "my_car = Car(\"Toyota\", \"Corolla\")\n",
    "my_car.start_engine()  # Output: The Toyota Corolla's engine is started.\n"
   ]
  },
  {
   "cell_type": "raw",
   "id": "c73d9254-42d7-4236-ac4d-7eb96faed148",
   "metadata": {},
   "source": [
    "The flow is:\n",
    "\n",
    "__init__ receives initial values (Toyota, Corolla)\n",
    "Assigns them to the instance using self\n",
    "Other methods can then access these values using self"
   ]
  },
  {
   "cell_type": "code",
   "execution_count": 19,
   "id": "001d10b0-e5c0-4a88-ab7a-e091eaff8639",
   "metadata": {},
   "outputs": [
    {
     "data": {
      "text/plain": [
       "21"
      ]
     },
     "execution_count": 19,
     "metadata": {},
     "output_type": "execute_result"
    }
   ],
   "source": [
    "class arithmatic:\n",
    "    def __init__(self,a,b):\n",
    "        self.a=a\n",
    "        self.b=b\n",
    "    def addition(self,c):\n",
    "        return self.a+self.b+c\n",
    "    def sub(self):\n",
    "        return self.a-self.b\n",
    "    def multiplication():\n",
    "        return self.a*self.b\n",
    "\n",
    "result.addition(12)\n",
    "\n"
   ]
  },
  {
   "cell_type": "code",
   "execution_count": 7,
   "id": "4ab4dfa2-4610-4f19-b9f5-c890552e0e14",
   "metadata": {},
   "outputs": [],
   "source": [
    "result=arithmatic(5,4)"
   ]
  },
  {
   "cell_type": "code",
   "execution_count": 10,
   "id": "788ae651-3c52-4429-a5bb-e3da0113c112",
   "metadata": {},
   "outputs": [
    {
     "data": {
      "text/plain": [
       "21"
      ]
     },
     "execution_count": 10,
     "metadata": {},
     "output_type": "execute_result"
    }
   ],
   "source": [
    "result.addition(12)"
   ]
  },
  {
   "cell_type": "code",
   "execution_count": 11,
   "id": "d4312fcd-ea34-47d0-ab60-7d9ae727f444",
   "metadata": {},
   "outputs": [
    {
     "data": {
      "text/plain": [
       "5"
      ]
     },
     "execution_count": 11,
     "metadata": {},
     "output_type": "execute_result"
    }
   ],
   "source": [
    "result.a"
   ]
  },
  {
   "cell_type": "code",
   "execution_count": 12,
   "id": "efb70713-b36f-477b-9a55-be7a539783c4",
   "metadata": {},
   "outputs": [
    {
     "data": {
      "text/plain": [
       "4"
      ]
     },
     "execution_count": 12,
     "metadata": {},
     "output_type": "execute_result"
    }
   ],
   "source": [
    "result.b"
   ]
  },
  {
   "cell_type": "code",
   "execution_count": 20,
   "id": "fab39baa-c1bf-461b-88a1-601c6d8dd668",
   "metadata": {},
   "outputs": [
    {
     "data": {
      "text/plain": [
       "20"
      ]
     },
     "execution_count": 20,
     "metadata": {},
     "output_type": "execute_result"
    }
   ],
   "source": [
    "result.multiplication()"
   ]
  },
  {
   "cell_type": "code",
   "execution_count": null,
   "id": "90813fb8",
   "metadata": {},
   "outputs": [],
   "source": [
    "## The four fundamental concepts of OOP are \n",
    "# Encapsulation, \n",
    "# Abstraction, \n",
    "# Inheritance, \n",
    "# Polymorphism."
   ]
  },
  {
   "cell_type": "code",
   "execution_count": null,
   "id": "361edb81",
   "metadata": {},
   "outputs": [],
   "source": [
    "## Encapsulation\n",
    "Encapsulation is the process of building data(attributes) and methods (function)\n",
    "into a single unit, or class. It restricts direct access to some compoments, \n",
    "protecting data integrity by using private attributes and providing public\n",
    "methods for interaction."
   ]
  },
  {
   "cell_type": "code",
   "execution_count": 17,
   "id": "b101dfd2",
   "metadata": {},
   "outputs": [],
   "source": [
    "class BankAccount:\n",
    "    def __init__(self, account_number, balance=0):\n",
    "        self.account_number = account_number\n",
    "        self.__balance = balance  # Private attribute\n",
    "    \n",
    "    def deposit(self, amount):\n",
    "        if amount > 0:\n",
    "            self.__balance += amount\n",
    "    \n",
    "    def withdraw(self, amount):\n",
    "        if 0 < amount <= self.__balance:\n",
    "            self.__balance -= amount\n",
    "        else:\n",
    "            print(\"Insufficient funds\")\n",
    "    \n",
    "    def get_balance(self):\n",
    "        return self.__balance\n",
    "\n",
    "# Usage\n",
    "account = BankAccount(\"123456\")\n",
    "account.deposit(100)\n"
   ]
  },
  {
   "cell_type": "code",
   "execution_count": 19,
   "id": "d0816a4d",
   "metadata": {},
   "outputs": [],
   "source": [
    "result=BankAccount(3456845,500)"
   ]
  },
  {
   "cell_type": "code",
   "execution_count": 20,
   "id": "c1f95802",
   "metadata": {},
   "outputs": [
    {
     "data": {
      "text/plain": [
       "3456845"
      ]
     },
     "execution_count": 20,
     "metadata": {},
     "output_type": "execute_result"
    }
   ],
   "source": [
    "result.account_number"
   ]
  },
  {
   "cell_type": "code",
   "execution_count": 22,
   "id": "8f716326",
   "metadata": {},
   "outputs": [],
   "source": [
    "result.deposit(100)"
   ]
  },
  {
   "cell_type": "code",
   "execution_count": 24,
   "id": "34201d83",
   "metadata": {},
   "outputs": [
    {
     "data": {
      "text/plain": [
       "600"
      ]
     },
     "execution_count": 24,
     "metadata": {},
     "output_type": "execute_result"
    }
   ],
   "source": [
    "result.get_balance()"
   ]
  },
  {
   "cell_type": "code",
   "execution_count": 13,
   "id": "b2fc8e1f",
   "metadata": {},
   "outputs": [],
   "source": [
    "class arithmatics:\n",
    "  def __init__(self,a,b):\n",
    "    self.a=a\n",
    "    self.__b=b\n",
    "  def sums(self):\n",
    "    return self.a+self.b"
   ]
  },
  {
   "cell_type": "code",
   "execution_count": 14,
   "id": "06db80f0",
   "metadata": {},
   "outputs": [],
   "source": []
  },
  {
   "cell_type": "code",
   "execution_count": 11,
   "id": "5528963e",
   "metadata": {},
   "outputs": [
    {
     "data": {
      "text/plain": [
       "5"
      ]
     },
     "execution_count": 11,
     "metadata": {},
     "output_type": "execute_result"
    }
   ],
   "source": [
    "result.a"
   ]
  },
  {
   "cell_type": "code",
   "execution_count": 16,
   "id": "afeef08c",
   "metadata": {},
   "outputs": [
    {
     "ename": "AttributeError",
     "evalue": "'arithmatics' object has no attribute '__b'",
     "output_type": "error",
     "traceback": [
      "\u001b[1;31m---------------------------------------------------------------------------\u001b[0m",
      "\u001b[1;31mAttributeError\u001b[0m                            Traceback (most recent call last)",
      "Cell \u001b[1;32mIn[16], line 1\u001b[0m\n\u001b[1;32m----> 1\u001b[0m \u001b[43mresult\u001b[49m\u001b[38;5;241;43m.\u001b[39;49m\u001b[43m__b\u001b[49m\n",
      "\u001b[1;31mAttributeError\u001b[0m: 'arithmatics' object has no attribute '__b'"
     ]
    }
   ],
   "source": [
    "result.__b"
   ]
  },
  {
   "cell_type": "markdown",
   "id": "dcbe3f19",
   "metadata": {},
   "source": [
    "## Inheriatence\n",
    "Inheritance allow the class (child) to inherit the properties and behaviour from another\n",
    "class (Parent class). This help in reusing existing code and extending functions\n"
   ]
  },
  {
   "cell_type": "code",
   "execution_count": 25,
   "id": "c4e2ee06",
   "metadata": {},
   "outputs": [],
   "source": [
    "class operations:\n",
    "  def __init__(self,number):\n",
    "    self.number=number\n",
    "  \n",
    "  def get_number(self):\n",
    "    return self.number"
   ]
  },
  {
   "cell_type": "code",
   "execution_count": 30,
   "id": "1d3f9da3",
   "metadata": {},
   "outputs": [],
   "source": [
    "class arithmatical(operations):\n",
    "  def sums(self):\n",
    "    return sum(self.number)"
   ]
  },
  {
   "cell_type": "code",
   "execution_count": 31,
   "id": "ad1ffb8e",
   "metadata": {},
   "outputs": [],
   "source": [
    "number=[1,2,3,4,5]\n",
    "result=arithmatical(number)"
   ]
  },
  {
   "cell_type": "code",
   "execution_count": 32,
   "id": "d0ef13ab",
   "metadata": {},
   "outputs": [
    {
     "data": {
      "text/plain": [
       "15"
      ]
     },
     "execution_count": 32,
     "metadata": {},
     "output_type": "execute_result"
    }
   ],
   "source": [
    "result.sums()"
   ]
  },
  {
   "cell_type": "code",
   "execution_count": 37,
   "id": "11baa15d",
   "metadata": {},
   "outputs": [],
   "source": []
  },
  {
   "cell_type": "code",
   "execution_count": 50,
   "id": "f4b38dc1",
   "metadata": {},
   "outputs": [],
   "source": [
    "class account_input:\n",
    "  def __init__(self,account,balance=0):\n",
    "    self.account=account\n",
    "    self.balance=balance\n",
    "  \n",
    "  def get_details(self):\n",
    "    return self.account,self.balance\n",
    "\n",
    "\n",
    "class account_operation(account_input):\n",
    "  def __init__(self,acount,balance,name):\n",
    "    super().__init__(account,balance)\n",
    "    \"\"\"\n",
    "    super().__init__(account, balance): \n",
    "    This initializes the account and balance attributes\n",
    "    from the account_input parent class.\n",
    "    super(): This function returns a temporary object of the superclass, \n",
    "    allowing you to call its methods.__init__(...): This is the initializer \n",
    "    method of the parent class (Vehicle in the example) that initializes common attributes.\n",
    "\"\"\"\n",
    "    self.name=name\n",
    "  \n",
    "  def balance_check(self):\n",
    "    return self.balance\n",
    "  def account_holder_name(self):\n",
    "    return self.name\n",
    "  \n",
    "  def deposit(self,amount):\n",
    "    self.balance=self.balance+amount\n",
    "    return self.balance\n",
    "    \n",
    "    \n",
    "operation=account_operation(12345,500,\"Prashant\")  "
   ]
  },
  {
   "cell_type": "code",
   "execution_count": 51,
   "id": "b036c650",
   "metadata": {},
   "outputs": [
    {
     "data": {
      "text/plain": [
       "'Prashant'"
      ]
     },
     "execution_count": 51,
     "metadata": {},
     "output_type": "execute_result"
    }
   ],
   "source": [
    "operation.account_holder_name()"
   ]
  },
  {
   "cell_type": "code",
   "execution_count": 52,
   "id": "eb853e93",
   "metadata": {},
   "outputs": [
    {
     "data": {
      "text/plain": [
       "500"
      ]
     },
     "execution_count": 52,
     "metadata": {},
     "output_type": "execute_result"
    }
   ],
   "source": [
    "operation.balance_check()"
   ]
  },
  {
   "cell_type": "code",
   "execution_count": 53,
   "id": "a52dd2a4",
   "metadata": {},
   "outputs": [
    {
     "data": {
      "text/plain": [
       "1000"
      ]
     },
     "execution_count": 53,
     "metadata": {},
     "output_type": "execute_result"
    }
   ],
   "source": [
    "operation.deposit(500)"
   ]
  },
  {
   "cell_type": "code",
   "execution_count": 54,
   "id": "f9478ee8",
   "metadata": {},
   "outputs": [
    {
     "data": {
      "text/plain": [
       "1000"
      ]
     },
     "execution_count": 54,
     "metadata": {},
     "output_type": "execute_result"
    }
   ],
   "source": [
    "operation.balance_check()"
   ]
  },
  {
   "cell_type": "markdown",
   "id": "093a850a",
   "metadata": {},
   "source": [
    "### Polymorpisam\n",
    "Polymorphism allows methods to do different things based on the object \n",
    "it’s acting upon. Polymorphism enables a single interface to represent different types of objects."
   ]
  },
  {
   "cell_type": "code",
   "execution_count": 65,
   "id": "55d9e8a4",
   "metadata": {},
   "outputs": [
    {
     "data": {
      "text/plain": [
       "'500 is debited from the 123'"
      ]
     },
     "execution_count": 65,
     "metadata": {},
     "output_type": "execute_result"
    }
   ],
   "source": [
    "## example \n",
    "##payment by various methid , credit card, phonepay,bank transfer\n",
    "\n",
    "class payment:\n",
    "  def __init__(self,amount):\n",
    "    self.amount=amount\n",
    "  def amounts(self):\n",
    "    return self.amount\n",
    "  \n",
    "class payment_method(payment):\n",
    "  def __init__(self,details,amount):\n",
    "    super().__init__(amount)\n",
    "    self.details=details\n",
    "  def credit_card(self):\n",
    "    return f\"{self.amount} is debited from the {self.self.details}\"\n",
    "  \n",
    "  def phone_pay(self):\n",
    "    return f\"{self.amount} is debited from the {self.details}\"\n",
    "  \n",
    "payments=payment_method(123,500)\n",
    "payments.phone_pay()\n"
   ]
  },
  {
   "cell_type": "markdown",
   "id": "4f0173da",
   "metadata": {},
   "source": [
    "##Abstraction\n",
    "Abstraction hides complex implementation details and \n",
    "exposes only the necessary parts to the user. \n",
    "It reduces complexity by allowing users to interact \n",
    "with an object at a higher level."
   ]
  },
  {
   "cell_type": "code",
   "execution_count": null,
   "id": "a314c06b",
   "metadata": {},
   "outputs": [],
   "source": [
    "from abc import ABC, abstractmethod\n",
    "\n",
    "class Shape(ABC):\n",
    "    @abstractmethod\n",
    "    def area(self):\n",
    "        pass\n",
    "    \n",
    "    @abstractmethod\n",
    "    def perimeter(self):\n",
    "        pass\n",
    "\n",
    "class Rectangle(Shape):\n",
    "    def __init__(self, width, height):\n",
    "        self.width = width\n",
    "        self.height = height\n",
    "    \n",
    "    def area(self):\n",
    "        return self.width * self.height\n",
    "    \n",
    "    def perimeter(self):\n",
    "        return 2 * (self.width + self.height)\n",
    "\n",
    "# Usage\n",
    "rect = Rectangle(4, 5)\n",
    "print(\"Area:\", rect.area())        # Output: Area: 20\n",
    "print(\"Perimeter:\", rect.perimeter())  # Output: Perimeter: 18\n"
   ]
  },
  {
   "cell_type": "code",
   "execution_count": null,
   "id": "10df6848-f39d-4b79-b9b1-ef916ff53484",
   "metadata": {},
   "outputs": [],
   "source": [
    "Class: Blueprint for creating objects.\n",
    "Object: Instance of a class.\n",
    "Encapsulation: Hiding internal details of an object.\n",
    "Inheritance: Reuse properties and methods from parent class.\n",
    "Polymorphism: Ability to process objects differently based on their class.\n",
    "Abstraction: Exposing only the essential features of an object.\n",
    "Composition: Using one class within another to model relationships."
   ]
  }
 ],
 "metadata": {
  "kernelspec": {
   "display_name": "Python 3",
   "language": "python",
   "name": "python3"
  },
  "language_info": {
   "codemirror_mode": {
    "name": "ipython",
    "version": 3
   },
   "file_extension": ".py",
   "mimetype": "text/x-python",
   "name": "python",
   "nbconvert_exporter": "python",
   "pygments_lexer": "ipython3",
   "version": "3.11.3"
  }
 },
 "nbformat": 4,
 "nbformat_minor": 5
}
