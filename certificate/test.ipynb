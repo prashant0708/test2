{
 "cells": [
  {
   "cell_type": "code",
   "execution_count": 8,
   "metadata": {},
   "outputs": [],
   "source": [
    "class certificategenerator:\n",
    "  def __init__(self,name,course,all_assignment,all_class):\n",
    "    self.name=name\n",
    "    self.course=course\n",
    "    self.all_assignment=all_assignment\n",
    "    self.all_class=all_class\n",
    "    \n",
    "  \n",
    "  \n",
    "  def generatecertificate(self):\n",
    "    if self.all_assignment.lower()=='yes'and self.all_class.lower()=='yes':\n",
    "      dicts={'name':self.name,'course':self.course,'certificate':f\"you certificate for {self.course} generated\"}\n",
    "      return dicts\n",
    "    else:\n",
    "      massage=\"Please complete all class and assignment\"\n",
    "      return massage\n",
    "      "
   ]
  },
  {
   "cell_type": "code",
   "execution_count": 9,
   "metadata": {},
   "outputs": [],
   "source": [
    "result=certificategenerator(\"Prashant\",\"Python\",\"yes\",\"yes\")"
   ]
  },
  {
   "cell_type": "code",
   "execution_count": 13,
   "metadata": {},
   "outputs": [],
   "source": [
    "dicts=result.generatecertificate()"
   ]
  },
  {
   "cell_type": "code",
   "execution_count": 16,
   "metadata": {},
   "outputs": [
    {
     "data": {
      "text/plain": [
       "'Prashant'"
      ]
     },
     "execution_count": 16,
     "metadata": {},
     "output_type": "execute_result"
    }
   ],
   "source": [
    "dicts['name']\n"
   ]
  },
  {
   "cell_type": "code",
   "execution_count": null,
   "metadata": {},
   "outputs": [],
   "source": []
  }
 ],
 "metadata": {
  "kernelspec": {
   "display_name": "Python 3",
   "language": "python",
   "name": "python3"
  },
  "language_info": {
   "codemirror_mode": {
    "name": "ipython",
    "version": 3
   },
   "file_extension": ".py",
   "mimetype": "text/x-python",
   "name": "python",
   "nbconvert_exporter": "python",
   "pygments_lexer": "ipython3",
   "version": "3.11.3"
  }
 },
 "nbformat": 4,
 "nbformat_minor": 2
}
